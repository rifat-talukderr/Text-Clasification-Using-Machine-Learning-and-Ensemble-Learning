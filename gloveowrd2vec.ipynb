{
 "cells": [
  {
   "cell_type": "code",
   "execution_count": 3,
   "metadata": {},
   "outputs": [],
   "source": [
    "# Importing the libraries\n",
    "import numpy as np\n",
    "import pandas as pd\n",
    "import re\n",
    "import pickle \n",
    "import nltk\n",
    "#import heapq\n",
    "from sklearn.datasets import load_files\n",
    "import csv\n",
    "import matplotlib.pyplot as plt\n",
    "import itertools\n",
    "from nltk.stem.wordnet import WordNetLemmatizer \n",
    "from nltk.corpus import stopwords \n",
    "from nltk.tokenize import word_tokenize \n",
    "from sklearn import metrics\n",
    "stop_words = set(stopwords.words('english')) \n",
    "import io, codecs"
   ]
  },
  {
   "cell_type": "code",
   "execution_count": 4,
   "metadata": {},
   "outputs": [],
   "source": [
    "Data = pd.read_excel('NewsData.xlsx')\n",
    "\n",
    "X=Data.iloc[:,0].values\n",
    "y=Data.iloc[:,1].values\n",
    "\n",
    "corpus_sent = []\n",
    "for i in range(0,len(X)):\n",
    "    text = re.sub(r'\\W',' ',str(X[i]))\n",
    "    text = re.sub(\"@[\\w\\d]+\", \"\", text)           #delete any references to other people\n",
    "    text = re.sub(\"http:[\\w\\:\\/\\.]+\",\"\", text)    #replace url's\n",
    "    text = re.sub('[^[A-Za-z]\\s]','', text)      #replace non alphabets and non spaces\n",
    "    text=  re.sub('[^a-zA-Z]',' ', text)         #remoce non words (special characters)\n",
    "    text = re.sub('[^\\w\\s]','', text)            #remove white spaces\n",
    "    text = text.lower()\n",
    "    words = nltk.tokenize.word_tokenize(text)\n",
    "    tokens =' '.join([word for word in words if not text in stop_words])\n",
    "    corpus_sent.append(tokens)\n",
    "    \n",
    "\n",
    "lem = WordNetLemmatizer()\n",
    "\n",
    "# word tokenization\n",
    "for i in range(len(corpus_sent)):\n",
    "    words = nltk.word_tokenize(corpus_sent[i])\n",
    "    stm_word = [lem.lemmatize(word) for word in words]\n",
    "    corpus_sent[i] = ' '.join(stm_word)"
   ]
  },
  {
   "cell_type": "code",
   "execution_count": 5,
   "metadata": {},
   "outputs": [],
   "source": [
    "#code for fastext wordembedding\n",
    "w2vModel ={}\n",
    "f = codecs.open('glove.840B.300d.txt', encoding='utf-8')\n",
    "for line in f:\n",
    "  values = line.rstrip().rsplit(' ')\n",
    "  word = values[0]\n",
    "  coef = np.asarray(values[1:], dtype='float32')\n",
    "  w2vModel[word] =coef\n",
    "f.close()\n"
   ]
  },
  {
   "cell_type": "code",
   "execution_count": 6,
   "metadata": {},
   "outputs": [],
   "source": [
    "docs_vectors = pd.DataFrame()\n",
    "stopwords = nltk.corpus.stopwords.words('english')   ## !! added later\n",
    "\n",
    "## in below... all lowercase shall help in covering all the words, instead of adding \"\"A-Z\"\" in RegEx which may not provide suitable outputs\n",
    "for doc in corpus_sent:\n",
    "    temp = pd.DataFrame()   ## initially empty, and empty on every iteration\n",
    "    for word in doc.split(' '):  ## !!\n",
    "        if word not in stopwords: \n",
    "            try:\n",
    "                word_vec = w2vModel[word]  ## if present, the following code applies\n",
    "                temp = temp.append(pd.Series(word_vec), ignore_index = True)  ## .Series to make it easier to append \"without\" index labels\n",
    "            except:\n",
    "                pass\n",
    "    doc_vector = temp.mean()\n",
    "    docs_vectors = docs_vectors.append(doc_vector, ignore_index = True) ## added to the empty data frame\n",
    "#docs_vectors.shape "
   ]
  },
  {
   "cell_type": "code",
   "execution_count": 8,
   "metadata": {},
   "outputs": [
    {
     "data": {
      "text/plain": [
       "(3000, 300)"
      ]
     },
     "execution_count": 8,
     "metadata": {},
     "output_type": "execute_result"
    }
   ],
   "source": [
    "docs_vectors.shape "
   ]
  },
  {
   "cell_type": "code",
   "execution_count": 9,
   "metadata": {},
   "outputs": [],
   "source": [
    "docs_vectors['sentiment'] = Data['Sentiment']\n",
    "docs_vectors = docs_vectors.dropna()\n",
    "\n",
    "from sklearn.model_selection import train_test_split ## here vectorization (vectorizer) again shall not come, since we are calculated weights \n",
    "from sklearn.ensemble import AdaBoostClassifier\n",
    "\n",
    "train_x, test_x, train_y, test_y = train_test_split(docs_vectors.drop('sentiment', axis = 1),\n",
    "                                                   docs_vectors['sentiment'],\n",
    "                                                   test_size = 0.2,\n",
    "                                                   random_state = 1)"
   ]
  },
  {
   "cell_type": "code",
   "execution_count": 10,
   "metadata": {},
   "outputs": [],
   "source": [
    "model = AdaBoostClassifier(n_estimators = 800, random_state = 1)\n",
    "model.fit(train_x, train_y)\n",
    "ada_pred = model.predict(test_x)"
   ]
  },
  {
   "cell_type": "code",
   "execution_count": 14,
   "metadata": {},
   "outputs": [
    {
     "name": "stdout",
     "output_type": "stream",
     "text": [
      "92.83333333333333\n",
      "95.24861878453038\n",
      "94.72527472527472\n",
      "95.77777777777777\n"
     ]
    }
   ],
   "source": [
    "from sklearn.metrics import accuracy_score, precision_score, f1_score, recall_score\n",
    "ada_accuracy = accuracy_score(test_y,ada_pred)\n",
    "ada_f1 = f1_score(test_y,ada_pred)\n",
    "ada_precision = precision_score(test_y,ada_pred)\n",
    "ada_recall = recall_score(test_y,ada_pred)\n",
    "print(ada_accuracy*100)\n",
    "print(ada_f1*100)\n",
    "print(ada_precision*100)\n",
    "print(ada_recall*100)"
   ]
  },
  {
   "cell_type": "code",
   "execution_count": 13,
   "metadata": {
    "collapsed": true
   },
   "outputs": [
    {
     "name": "stdout",
     "output_type": "stream",
     "text": [
      "              precision    recall  f1-score   support\n",
      "\n",
      "         0.0       0.87      0.84      0.85       150\n",
      "         1.0       0.95      0.96      0.95       450\n",
      "\n",
      "    accuracy                           0.93       600\n",
      "   macro avg       0.91      0.90      0.90       600\n",
      "weighted avg       0.93      0.93      0.93       600\n",
      "\n"
     ]
    }
   ],
   "source": [
    "#from sklearn.metrics import classification_report\n",
    "\n",
    "#print(classification_report(test_y, ada_pred))"
   ]
  },
  {
   "cell_type": "code",
   "execution_count": 15,
   "metadata": {
    "collapsed": true
   },
   "outputs": [
    {
     "data": {
      "image/png": "[encoded data removed]",
      "text/plain": [
       "<Figure size 432x288 with 1 Axes>"
      ]
     },
     "metadata": {
      "needs_background": "light"
     },
     "output_type": "display_data"
    },
    {
     "data": {
      "text/plain": [
       "<Figure size 432x288 with 0 Axes>"
      ]
     },
     "metadata": {},
     "output_type": "display_data"
    }
   ],
   "source": [
    "\n",
    "'''fpr_ada, tpr_ada, thresholds = roc_curve(test_y, ada_pred)\n",
    "plt.plot(fpr, tpr, label='ROC curve')\n",
    "plt.xlabel('False Positive Rate')\n",
    "plt.ylabel('True Positive Rate')\n",
    "plt.title('ROC Curve')\n",
    "plt.show()\n",
    "\n",
    "# save figure\n",
    "plt.savefig('roc_curve_svm.png', dpi=200)'''"
   ]
  },
  {
   "cell_type": "code",
   "execution_count": 17,
   "metadata": {
    "collapsed": true
   },
   "outputs": [
    {
     "data": {
      "image/png": "[encoded data removed]",
      "text/plain": [
       "<Figure size 432x288 with 1 Axes>"
      ]
     },
     "metadata": {
      "needs_background": "light"
     },
     "output_type": "display_data"
    },
    {
     "data": {
      "text/plain": [
       "<Figure size 432x288 with 0 Axes>"
      ]
     },
     "metadata": {},
     "output_type": "display_data"
    }
   ],
   "source": [
    "'''from sklearn.metrics import precision_recall_curve \n",
    "\n",
    "precision, recall, thresholds = precision_recall_curve(test_y, test_pred)\n",
    "# create plot\n",
    "plt.plot(precision, recall, label='Precision-recall curve')\n",
    "plt.xlabel('Precision')\n",
    "plt.ylabel('Recall')\n",
    "plt.title('Precision-recall curve')\n",
    "plt.show()\n",
    "\n",
    "# save figure\n",
    "plt.savefig('precision_recall.png', dpi=200)'''"
   ]
  },
  {
   "cell_type": "code",
   "execution_count": 15,
   "metadata": {},
   "outputs": [
    {
     "name": "stderr",
     "output_type": "stream",
     "text": [
      "c:\\users\\khair\\appdata\\local\\programs\\python\\python36\\lib\\site-packages\\sklearn\\ensemble\\forest.py:245: FutureWarning: The default value of n_estimators will change from 10 in version 0.20 to 100 in 0.22.\n",
      "  \"10 in version 0.20 to 100 in 0.22.\", FutureWarning)\n"
     ]
    }
   ],
   "source": [
    "from sklearn.ensemble import RandomForestClassifier\n",
    "clf = RandomForestClassifier()\n",
    "clf = clf.fit(train_x, train_y)\n",
    "\n",
    "rf_pred = clf.predict(test_x)"
   ]
  },
  {
   "cell_type": "code",
   "execution_count": 16,
   "metadata": {},
   "outputs": [
    {
     "name": "stdout",
     "output_type": "stream",
     "text": [
      "93.0\n",
      "95.40481400437638\n",
      "93.96551724137932\n",
      "96.88888888888889\n"
     ]
    }
   ],
   "source": [
    "from sklearn.metrics import accuracy_score, precision_score, f1_score, recall_score\n",
    "rf_accuracy = accuracy_score(test_y,rf_pred)\n",
    "rf_f1 = f1_score(test_y,rf_pred)\n",
    "rf_precision = precision_score(test_y,rf_pred)\n",
    "rf_recall = recall_score(test_y,rf_pred)\n",
    "print(rf_accuracy*100)\n",
    "print(rf_f1*100)\n",
    "print(rf_precision*100)\n",
    "print(rf_recall*100)"
   ]
  },
  {
   "cell_type": "code",
   "execution_count": 20,
   "metadata": {
    "collapsed": true
   },
   "outputs": [
    {
     "name": "stdout",
     "output_type": "stream",
     "text": [
      "              precision    recall  f1-score   support\n",
      "\n",
      "         0.0       0.87      0.84      0.85       150\n",
      "         1.0       0.95      0.96      0.95       450\n",
      "\n",
      "    accuracy                           0.93       600\n",
      "   macro avg       0.91      0.90      0.90       600\n",
      "weighted avg       0.93      0.93      0.93       600\n",
      "\n"
     ]
    }
   ],
   "source": [
    "#print(classification_report(test_y, rf_pred))"
   ]
  },
  {
   "cell_type": "code",
   "execution_count": 17,
   "metadata": {},
   "outputs": [],
   "source": [
    "from sklearn.metrics import precision_recall_curve\n",
    "from sklearn.metrics import roc_curve\n",
    "import matplotlib.pyplot as plt\n",
    "%matplotlib inline"
   ]
  },
  {
   "cell_type": "code",
   "execution_count": 19,
   "metadata": {},
   "outputs": [],
   "source": [
    "#roc curve ada\n",
    "fpr_ada, tpr_ada,thresholds_ada = roc_curve(test_y, ada_pred)\n",
    "#rf roc curve\n",
    "fpr_rf, tpr_rf, thresholds_rf = roc_curve(test_y, rf_pred)"
   ]
  },
  {
   "cell_type": "code",
   "execution_count": 20,
   "metadata": {},
   "outputs": [
    {
     "data": {
      "text/plain": [
       "<matplotlib.legend.Legend at 0x29dd681a4e0>"
      ]
     },
     "execution_count": 20,
     "metadata": {},
     "output_type": "execute_result"
    },
    {
     "data": {
      "image/png": "[encoded data removed]",
      "text/plain": [
       "<Figure size 432x288 with 1 Axes>"
      ]
     },
     "metadata": {
      "needs_background": "light"
     },
     "output_type": "display_data"
    }
   ],
   "source": [
    "# create plot\n",
    "plt.plot(fpr_ada, tpr_ada, label='adabost ROC curve', c = 'b')\n",
    "plt.plot(fpr_rf, tpr_rf, label='Random Forest ROC curve', c = 'r')\n",
    "plt.xlabel('False Positive Rate')\n",
    "plt.ylabel('True Positive Rate')\n",
    "plt.title('ROC Curve for glove word2vec')\n",
    "plt.legend(loc=\"lower right\")"
   ]
  },
  {
   "cell_type": "code",
   "execution_count": 22,
   "metadata": {},
   "outputs": [],
   "source": [
    "#precision recall curve ada\n",
    "fpr_ada, tpr_ada,thresholds_ada = precision_recall_curve(test_y, ada_pred)\n",
    "#rf precision recall curve\n",
    "fpr_rf, tpr_rf, thresholds_rf = precision_recall_curve(test_y, rf_pred)"
   ]
  },
  {
   "cell_type": "code",
   "execution_count": 23,
   "metadata": {},
   "outputs": [
    {
     "data": {
      "text/plain": [
       "<matplotlib.legend.Legend at 0x29dd9ebdeb8>"
      ]
     },
     "execution_count": 23,
     "metadata": {},
     "output_type": "execute_result"
    },
    {
     "data": {
      "image/png": "[encoded data removed]",
      "text/plain": [
       "<Figure size 432x288 with 1 Axes>"
      ]
     },
     "metadata": {
      "needs_background": "light"
     },
     "output_type": "display_data"
    }
   ],
   "source": [
    "plt.plot(fpr_ada, tpr_ada, label='adabost precesion recall curve', c = 'b')\n",
    "plt.plot(fpr_rf, tpr_rf, label='random forest precesion recall curve', c = 'r')\n",
    "plt.xlabel('precision')\n",
    "plt.ylabel('recall')\n",
    "plt.title('precesion recall curve for glove word2vec')\n",
    "plt.legend(loc=\"lower left\")"
   ]
  }
 ],
 "metadata": {
  "kernelspec": {
   "display_name": "Python 3",
   "language": "python",
   "name": "python3"
  },
  "language_info": {
   "codemirror_mode": {
    "name": "ipython",
    "version": 3
   },
   "file_extension": ".py",
   "mimetype": "text/x-python",
   "name": "python",
   "nbconvert_exporter": "python",
   "pygments_lexer": "ipython3",
   "version": "3.6.1"
  }
 },
 "nbformat": 4,
 "nbformat_minor": 2
}
