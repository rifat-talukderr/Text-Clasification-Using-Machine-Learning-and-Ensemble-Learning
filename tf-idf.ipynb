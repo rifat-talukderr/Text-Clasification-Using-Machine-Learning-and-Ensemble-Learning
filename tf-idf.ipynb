{
 "cells": [
  {
   "cell_type": "code",
   "execution_count": 14,
   "metadata": {},
   "outputs": [],
   "source": [
    "# Importing the libraries\n",
    "import numpy as np\n",
    "import pandas as pd\n",
    "import re\n",
    "import pickle \n",
    "import nltk\n",
    "#import heapq\n",
    "from sklearn.datasets import load_files\n",
    "import csv\n",
    "import matplotlib.pyplot as plt\n",
    "import itertools\n",
    "from nltk.stem.wordnet import WordNetLemmatizer \n",
    "from nltk.corpus import stopwords \n",
    "from nltk.tokenize import word_tokenize \n",
    "from sklearn import metrics\n",
    "stop_words = set(stopwords.words('english')) \n",
    "#from gensim.models import Word2Vec"
   ]
  },
  {
   "cell_type": "code",
   "execution_count": 15,
   "metadata": {},
   "outputs": [],
   "source": [
    "Data=pd.read_excel('NewsData.xlsx')\n",
    "\n",
    "X=Data.iloc[:,0].values\n",
    "y=Data.iloc[:,1].values\n",
    "\n",
    "corpus_sent = []\n",
    "for i in range(0,len(X)):\n",
    "    text = re.sub(r'\\W',' ',str(X[i]))\n",
    "    text = re.sub(\"@[\\w\\d]+\", \"\", text)           #delete any references to other people\n",
    "    text = re.sub(\"http:[\\w\\:\\/\\.]+\",\"\", text)    #replace url's\n",
    "    text = re.sub('[^[A-Za-z]\\s]','', text)      #replace non alphabets and non spaces\n",
    "    text=  re.sub('[^a-zA-Z]',' ', text)         #remoce non words (special characters)\n",
    "    text = re.sub('[^\\w\\s]','', text)            #remove white spaces\n",
    "    text = text.lower()\n",
    "    words = nltk.tokenize.word_tokenize(text)\n",
    "    tokens =' '.join([word for word in words if not text in stop_words])\n",
    "    corpus_sent.append(tokens)\n",
    "    \n",
    "\n",
    "lem = WordNetLemmatizer()\n",
    "\n",
    "# word tokenization\n",
    "for i in range(len(corpus_sent)):\n",
    "    words = nltk.word_tokenize(corpus_sent[i])\n",
    "    stm_word = [lem.lemmatize(word) for word in words]\n",
    "    corpus_sent[i] = ' '.join(stm_word)"
   ]
  },
  {
   "cell_type": "code",
   "execution_count": 16,
   "metadata": {},
   "outputs": [],
   "source": [
    "# Creating the Tf-Idf model directly\n",
    "from sklearn.feature_extraction.text import TfidfVectorizer\n",
    "vectorizer = TfidfVectorizer(max_features = 2000, min_df = 3, max_df = 0.6, stop_words = None)\n",
    "X = vectorizer.fit_transform(corpus_sent).toarray()"
   ]
  },
  {
   "cell_type": "code",
   "execution_count": 17,
   "metadata": {},
   "outputs": [],
   "source": [
    "# Splitting the dataset into the Training set and Test set\n",
    "y=y.astype('int')\n",
    "\n",
    "from sklearn.model_selection import train_test_split\n",
    "text_train, text_test, sent_train, sent_test = train_test_split(X, y, test_size = 0.20, random_state = 0)"
   ]
  },
  {
   "cell_type": "code",
   "execution_count": 18,
   "metadata": {},
   "outputs": [
    {
     "name": "stderr",
     "output_type": "stream",
     "text": [
      "c:\\users\\khair\\appdata\\local\\programs\\python\\python36\\lib\\site-packages\\sklearn\\linear_model\\logistic.py:432: FutureWarning: Default solver will be changed to 'lbfgs' in 0.22. Specify a solver to silence this warning.\n",
      "  FutureWarning)\n",
      "c:\\users\\khair\\appdata\\local\\programs\\python\\python36\\lib\\site-packages\\sklearn\\linear_model\\logistic.py:469: FutureWarning: Default multi_class will be changed to 'auto' in 0.22. Specify the multi_class option to silence this warning.\n",
      "  \"this warning.\", FutureWarning)\n"
     ]
    }
   ],
   "source": [
    "# Training the classifier\n",
    "from sklearn.linear_model import LogisticRegression\n",
    "classifier = LogisticRegression()\n",
    "classifier.fit(text_train,sent_train)\n",
    "\n",
    "# Testing model performance\n",
    "lr_pred = classifier.predict(text_test)"
   ]
  },
  {
   "cell_type": "code",
   "execution_count": 19,
   "metadata": {},
   "outputs": [
    {
     "name": "stdout",
     "output_type": "stream",
     "text": [
      "[[ 55  91]\n",
      " [ 12 442]]\n"
     ]
    }
   ],
   "source": [
    "from sklearn.metrics import confusion_matrix, precision_score, f1_score, recall_score\n",
    "cm = confusion_matrix(sent_test, lr_pred)\n",
    "print (cm)  "
   ]
  },
  {
   "cell_type": "code",
   "execution_count": 20,
   "metadata": {},
   "outputs": [
    {
     "name": "stdout",
     "output_type": "stream",
     "text": [
      "82.83333333333334\n",
      "89.56433637284701\n",
      "82.92682926829268\n",
      "97.3568281938326\n"
     ]
    }
   ],
   "source": [
    "from sklearn.metrics import accuracy_score\n",
    "lr_accuracy = accuracy_score(sent_test,lr_pred)\n",
    "lr_f1 = f1_score(sent_test,lr_pred)\n",
    "lr_precision = precision_score(sent_test,lr_pred)\n",
    "lr_recall = recall_score(sent_test,lr_pred)\n",
    "print(lr_accuracy*100)\n",
    "print(lr_f1*100)\n",
    "print(lr_precision*100)\n",
    "print(lr_recall*100)"
   ]
  },
  {
   "cell_type": "code",
   "execution_count": 21,
   "metadata": {},
   "outputs": [],
   "source": [
    "# svm\n",
    "from sklearn import svm\n",
    "from sklearn.multiclass import OneVsRestClassifier\n",
    "clf = OneVsRestClassifier(svm.SVC(gamma=0.01, C=100., probability=True, class_weight='balanced', kernel='linear'))\n",
    "clf_output = clf.fit(text_train, sent_train)\n",
    "# Testing model performance\n",
    "svm_pred = clf_output.predict(text_test)"
   ]
  },
  {
   "cell_type": "code",
   "execution_count": 22,
   "metadata": {},
   "outputs": [
    {
     "name": "stdout",
     "output_type": "stream",
     "text": [
      "92.0\n",
      "94.59459459459458\n",
      "96.7741935483871\n",
      "92.51101321585902\n"
     ]
    }
   ],
   "source": [
    "svm_accuracy = accuracy_score(sent_test,svm_pred)\n",
    "svm_f1 = f1_score(sent_test,svm_pred)\n",
    "svm_precision = precision_score(sent_test,svm_pred)\n",
    "svm_recall = recall_score(sent_test,svm_pred)\n",
    "print(svm_accuracy*100)\n",
    "print(svm_f1*100)\n",
    "print(svm_precision*100)\n",
    "print(svm_recall*100)"
   ]
  },
  {
   "cell_type": "code",
   "execution_count": 23,
   "metadata": {},
   "outputs": [],
   "source": [
    "#naive bayes\n",
    "from sklearn.naive_bayes import MultinomialNB\n",
    "\n",
    "nb = MultinomialNB()\n",
    "nb = nb.fit(text_train, sent_train)\n",
    "\n",
    "nb_pred = nb.predict(text_test)"
   ]
  },
  {
   "cell_type": "code",
   "execution_count": 24,
   "metadata": {},
   "outputs": [
    {
     "name": "stdout",
     "output_type": "stream",
     "text": [
      "81.0\n",
      "88.8015717092338\n",
      "80.1418439716312\n",
      "99.55947136563876\n"
     ]
    }
   ],
   "source": [
    "nb_accuracy = accuracy_score(sent_test,nb_pred)\n",
    "nb_f1 = f1_score(sent_test,nb_pred)\n",
    "nb_precision = precision_score(sent_test,nb_pred)\n",
    "nb_recall = recall_score(sent_test,nb_pred)\n",
    "print(nb_accuracy*100)\n",
    "print(nb_f1*100)\n",
    "print(nb_precision*100)\n",
    "print(nb_recall*100)"
   ]
  },
  {
   "cell_type": "code",
   "execution_count": 25,
   "metadata": {},
   "outputs": [],
   "source": [
    "from sklearn.metrics import precision_recall_curve\n",
    "from sklearn.metrics import roc_curve\n",
    "import matplotlib.pyplot as plt\n",
    "%matplotlib inline"
   ]
  },
  {
   "cell_type": "code",
   "execution_count": 26,
   "metadata": {},
   "outputs": [],
   "source": [
    "#roc curve lr\n",
    "fpr_lr, tpr_lr,thresholds_lr = roc_curve(sent_test, lr_pred)\n",
    "#svm roc curve\n",
    "fpr_svm, tpr_svm, thresholds_svm = roc_curve(sent_test, svm_pred)\n",
    "#nb roc curve\n",
    "fpr_nb, tpr_nb, thresholds_nb = roc_curve(sent_test, nb_pred)\n",
    "#dt roc curve\n",
    "#fpr_dt, tpr_dt, thresholds_dt = roc_curve(sent_test, dt_pred)"
   ]
  },
  {
   "cell_type": "code",
   "execution_count": 27,
   "metadata": {},
   "outputs": [
    {
     "data": {
      "text/plain": [
       "<matplotlib.legend.Legend at 0x29d8903fb00>"
      ]
     },
     "execution_count": 27,
     "metadata": {},
     "output_type": "execute_result"
    },
    {
     "data": {
      "image/png": "[encoded data removed]",
      "text/plain": [
       "<Figure size 432x288 with 1 Axes>"
      ]
     },
     "metadata": {
      "needs_background": "light"
     },
     "output_type": "display_data"
    }
   ],
   "source": [
    "# create plot\n",
    "plt.plot(fpr_lr, tpr_lr, label='lr ROC curve', c = 'b')\n",
    "plt.plot(fpr_svm, tpr_svm, label='svm ROC curve', c = 'r')\n",
    "plt.plot(fpr_nb, tpr_nb, label='nb ROC curve', c = 'g')\n",
    "plt.xlabel('False Positive Rate')\n",
    "plt.ylabel('True Positive Rate')\n",
    "plt.title('ROC Curve for BOW')\n",
    "plt.legend(loc=\"lower right\")"
   ]
  },
  {
   "cell_type": "code",
   "execution_count": 28,
   "metadata": {},
   "outputs": [],
   "source": [
    "#precision recal curve lr\n",
    "fpr_lr, tpr_lr,thresholds_lr = precision_recall_curve(sent_test, lr_pred)\n",
    "#svm precision recal  curve\n",
    "fpr_svm, tpr_svm, thresholds_svm = precision_recall_curve(sent_test, svm_pred)\n",
    "#nb precision recal  curve\n",
    "fpr_nb, tpr_nb, thresholds_nb = precision_recall_curve(sent_test, nb_pred)\n",
    "#dt precision recal curve\n",
    "#fpr_dt, tpr_dt, thresholds_dt = precision_recall_curve(sent_test, dt_pred)"
   ]
  },
  {
   "cell_type": "code",
   "execution_count": 29,
   "metadata": {},
   "outputs": [
    {
     "data": {
      "text/plain": [
       "<matplotlib.legend.Legend at 0x29d9853ff60>"
      ]
     },
     "execution_count": 29,
     "metadata": {},
     "output_type": "execute_result"
    },
    {
     "data": {
      "image/png": "[encoded data removed]",
      "text/plain": [
       "<Figure size 432x288 with 1 Axes>"
      ]
     },
     "metadata": {
      "needs_background": "light"
     },
     "output_type": "display_data"
    }
   ],
   "source": [
    "plt.plot(fpr_lr, tpr_lr, label='lr precesion recall curve', c = 'b')\n",
    "plt.plot(fpr_svm, tpr_svm, label='svm precesion recall curve', c = 'r')\n",
    "plt.plot(fpr_nb, tpr_nb, label='nb precesion recall curve', c = 'g')\n",
    "#plt.plot(fpr_dt, tpr_dt, label='dt precesion recall curve', c = 'y')\n",
    "plt.xlabel('precision')\n",
    "plt.ylabel('recall')\n",
    "plt.title('precesion recall curve for BOW')\n",
    "plt.legend(loc=\"lower left\")"
   ]
  },
  {
   "cell_type": "code",
   "execution_count": 30,
   "metadata": {},
   "outputs": [
    {
     "data": {
      "image/png": "[encoded data removed]",
      "text/plain": [
       "<Figure size 432x288 with 1 Axes>"
      ]
     },
     "metadata": {
      "needs_background": "light"
     },
     "output_type": "display_data"
    }
   ],
   "source": [
    "objects = ['Precesion','recall','f1-score']\n",
    "y_pos = np.arange(len(objects))\n",
    "\n",
    "plt.bar(y_pos,100, [lr_f1, lr_precision,lr_recall],color = ['b','r','g'] ,label= ['f1','precision','recall'] ,alpha = 0.5)\n",
    "plt.xticks(y_pos, objects)\n",
    "plt.xlabel('lr')\n",
    "plt.ylabel('score')\n",
    "plt.title('Precesion,recall,f1-score')\n",
    "plt.show()"
   ]
  },
  {
   "cell_type": "code",
   "execution_count": 31,
   "metadata": {},
   "outputs": [
    {
     "data": {
      "image/png": "[encoded data removed]",
      "text/plain": [
       "<Figure size 432x288 with 1 Axes>"
      ]
     },
     "metadata": {
      "needs_background": "light"
     },
     "output_type": "display_data"
    }
   ],
   "source": [
    "plt.bar(y_pos,100, [svm_f1, svm_precision,svm_recall],color = ['b','r','g'] ,alpha = 0.5)\n",
    "plt.xticks(y_pos, objects)\n",
    "plt.xlabel('SVM')\n",
    "plt.ylabel('score')\n",
    "plt.title('Precesion,recall,f1-score')\n",
    "plt.show()"
   ]
  },
  {
   "cell_type": "code",
   "execution_count": 32,
   "metadata": {},
   "outputs": [
    {
     "data": {
      "image/png": "[encoded data removed]",
      "text/plain": [
       "<Figure size 432x288 with 1 Axes>"
      ]
     },
     "metadata": {
      "needs_background": "light"
     },
     "output_type": "display_data"
    }
   ],
   "source": [
    "plt.bar(y_pos,100, [nb_f1, nb_precision,nb_recall],color = ['b','r','g'] ,alpha = 0.5)\n",
    "plt.xticks(y_pos, objects)\n",
    "plt.xlabel('NB')\n",
    "plt.ylabel('score')\n",
    "plt.title('Precesion,recall,f1-score')\n",
    "plt.show()"
   ]
  },
  {
   "cell_type": "code",
   "execution_count": null,
   "metadata": {},
   "outputs": [],
   "source": []
  }
 ],
 "metadata": {
  "kernelspec": {
   "display_name": "Python 3",
   "language": "python",
   "name": "python3"
  },
  "language_info": {
   "codemirror_mode": {
    "name": "ipython",
    "version": 3
   },
   "file_extension": ".py",
   "mimetype": "text/x-python",
   "name": "python",
   "nbconvert_exporter": "python",
   "pygments_lexer": "ipython3",
   "version": "3.6.1"
  }
 },
 "nbformat": 4,
 "nbformat_minor": 2
}
